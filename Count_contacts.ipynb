{
  "nbformat": 4,
  "nbformat_minor": 0,
  "metadata": {
    "colab": {
      "provenance": [],
      "include_colab_link": true
    },
    "kernelspec": {
      "name": "python3",
      "display_name": "Python 3"
    },
    "language_info": {
      "name": "python"
    }
  },
  "cells": [
    {
      "cell_type": "markdown",
      "metadata": {
        "id": "view-in-github",
        "colab_type": "text"
      },
      "source": [
        "<a href=\"https://colab.research.google.com/github/Hoopsforever/AlphaFold-capabilities-with-nanobody-antigen-complex-prediction/blob/main/Count_contacts.ipynb\" target=\"_parent\"><img src=\"https://colab.research.google.com/assets/colab-badge.svg\" alt=\"Open In Colab\"/></a>"
      ]
    },
    {
      "cell_type": "code",
      "execution_count": null,
      "metadata": {
        "id": "RzIHldv-0vdV"
      },
      "outputs": [],
      "source": [
        "# Step 1: Install the necessary libraries\n",
        "!pip install --upgrade gspread gspread-dataframe\n"
      ]
    },
    {
      "cell_type": "code",
      "source": [
        "from google.colab import drive\n",
        "drive.mount('/content/drive')"
      ],
      "metadata": {
        "id": "P8dq5IrF07zz"
      },
      "execution_count": null,
      "outputs": []
    },
    {
      "cell_type": "code",
      "source": [
        "# Step 2: Read the excel file with pandas\n",
        "import pandas as pd\n",
        "\n",
        "filepath = \"/content/drive/MyDrive/Rishi_project_files/Compare_Contacts/orig_vs_model_contacts.xlsx\" # replace with your file path\n",
        "df = pd.read_excel(filepath)\n",
        "\n",
        "df_slice = df.iloc[0:40]\n",
        "\n",
        "counter_real = 0\n",
        "# Iterate over rows\n",
        "for index, row in df_slice.iterrows():\n",
        "    # Iterate over columns in this row\n",
        "    for column in df.columns:\n",
        "        cell_value1 = row[column]\n",
        "\n",
        "        if type(cell_value1) != str and cell_value1 > 0:\n",
        "          counter_real += 1\n",
        "\n",
        "print(f\"Avg # of real contact positions: {counter_real/40}\")\n",
        "print(counter_real)\n",
        "\n",
        "df_slice2 = df.iloc[41:83]\n",
        "\n",
        "counter_pred = 0\n",
        "# Iterate over rows\n",
        "for index, row in df_slice2.iterrows():\n",
        "    # Iterate over columns in this row\n",
        "    for column in df.columns:\n",
        "        cell_value2 = row[column]\n",
        "        if type(cell_value2) != str and cell_value2 > 0:\n",
        "          counter_pred += 1\n",
        "\n",
        "print(f\"Avg # of predicted contact positions: {counter_pred/40}\")\n",
        "print(counter_pred)\n"
      ],
      "metadata": {
        "id": "Vv0di74307_t"
      },
      "execution_count": null,
      "outputs": []
    },
    {
      "cell_type": "code",
      "source": [
        "contacts = pd.read_excel(\"/content/drive/MyDrive/Rishi_project_files/Compare_Contacts/orig_vs_model_contacts.xlsx\",index_col = 0)\n",
        "df_real = contacts.iloc[0:40, :]\n",
        "df_pred = contacts.iloc[41:81, :]\n",
        "\n",
        "\n",
        "correct_contacts = 0\n",
        "for i in range(0,df_real.shape[0]): # x-axis of real\n",
        "  for j in range(0,df_real.shape[1]): # y-axis of real\n",
        "    if isinstance(df_real.iloc[i,j], str): # is this cell in the real section a string like 7e53?\n",
        "      continue\n",
        "    elif df_real.iloc[i,j] > 0: # if not, then is it bigger than 0?\n",
        "      if isinstance(df_pred.iloc[i,j], str):  # if it is, then for that same i,j coordinate is the cell in df_pred a string?\n",
        "        continue\n",
        "      elif df_pred.iloc[i,j] > 0: # if not, then is the cell in df_pred also bigger than 0?\n",
        "        correct_contacts += 1 # if it is, then add 1 to correct_contacts\n",
        "\n",
        "\n",
        "print(correct_contacts)\n",
        "real_sensitivity = (correct_contacts/counter_real)\n",
        "pred_sensitivity = (correct_contacts/counter_pred)\n",
        "\n",
        "print(f\"Real Sensitivity: {real_sensitivity}\")\n",
        "print(f\"Pred Sensitivity: {pred_sensitivity}\")\n",
        "\n",
        "\n"
      ],
      "metadata": {
        "id": "pawNWsfkgBBY"
      },
      "execution_count": null,
      "outputs": []
    },
    {
      "cell_type": "code",
      "source": [
        "sequence = pd.read_excel(\"/content/drive/MyDrive/Rishi_project_files/Compare_Contacts/orig_contacts.xlsx\",index_col = 0)\n",
        "\n",
        "\n",
        "real_seq = sequence.iloc[0:42, :]\n",
        "df_real = contacts.iloc[0:40, :]\n",
        "df_pred = contacts.iloc[41:81, :]\n",
        "\n",
        "\n",
        "df = []\n",
        "for i in range(0,df_real.shape[0]):\n",
        "  new = []\n",
        "  for j in range(0,df_real.shape[1]):\n",
        "    if isinstance(df_real.iloc[i,j],str): # is this particular cell at i,j a string?\n",
        "      new.append(\"x\") # if so, then add an x at that cell to new\n",
        "    elif df_real.iloc[i,j] == 0: # if not, then check if that same cell in the real section of contacts is a 0.\n",
        "      if df_pred.iloc[i,j] == 0: # if it is, then check if the corresponding cell in the pred section is also a 0\n",
        "        new.append(\" \") # add a blank to new if it is\n",
        "      elif df_pred.iloc[i,j] > 0: # otherwise, check if the pred cell is bigger than 0\n",
        "        new.append(real_seq.iloc[i,j].lower()) # These are our False Positives\n",
        "    elif df_real.iloc[i,j] > 0:\n",
        "      if df_pred.iloc[i,j] == 0:\n",
        "        new.append(real_seq.iloc[i,j].upper()) # False negatives\n",
        "      elif type(df_pred.iloc[i,j]) != str and df_pred.iloc[i,j] > 0:\n",
        "        new.append(\" \")\n",
        "\n",
        "  df.append(new)\n",
        "\n",
        "columns = [str(i+1) for i in range(145)]\n",
        "\n",
        "mistakes = pd.DataFrame(df,columns = columns)\n",
        "mistakes.index = real_seq.index\n",
        "mistakes.columns = real_seq.columns\n",
        "\n",
        "# Save the DataFrame to an Excel file\n",
        "#mistakes.to_excel(\"/content/drive/MyDrive/Colab Notebooks/Rishi_project_files/Compare_Contacts/mistakes.xlsx\")\n"
      ],
      "metadata": {
        "id": "eMMy1q1yDipQ"
      },
      "execution_count": null,
      "outputs": []
    },
    {
      "cell_type": "code",
      "source": [
        "import pandas as pd\n",
        "\n",
        "mistake_map = pd.read_excel(\"/content/drive/MyDrive/Rishi_project_files/Compare_Contacts/mistakes.xlsx\",index_col = 0)\n",
        "\n",
        "df_mistake = mistake_map.iloc[0:42, :]\n",
        "\n",
        "# Flatten the DataFrame to a Series\n",
        "mistakes = df_mistake.values.flatten()\n",
        "no_x = mistakes[mistakes != 'x']\n",
        "\n",
        "# Count the occurrences of each value\n",
        "residues = []\n",
        "for i in range(0,df_mistake.shape[0]):\n",
        "  for j in range(0,df_mistake.shape[1]):\n",
        "    if type(df_mistake.iloc[i,j]) != str or df_mistake.iloc[i,j] == 'x':\n",
        "      wrong_res = pd.Series(no_x).value_counts()\n",
        "residues.append(wrong_res)\n",
        "\n",
        "residue_series = residues[0] #get the contents of the residues list\n",
        "\n",
        "df = residue_series.reset_index()\n",
        "\n",
        "# Rename the columns\n",
        "df.columns = ['Residue', 'Count']\n",
        "\n",
        "print(df)\n"
      ],
      "metadata": {
        "id": "TtIQ3D1AwHNX"
      },
      "execution_count": null,
      "outputs": []
    },
    {
      "cell_type": "code",
      "source": [
        "import pandas as pd\n",
        "\n",
        "contacts = pd.read_excel(\"/content/drive/MyDrive/Rishi_project_files/Compare_Contacts/orig_vs_model_contacts.xlsx\",index_col = 0)\n",
        "df_real = contacts.iloc[0:40, :]\n",
        "df_pred = contacts.iloc[41:81, :]\n",
        "\n",
        "sequence = pd.read_excel(\"/content/drive/MyDrive/Rishi_project_files/Compare_Contacts/orig_contacts.xlsx\",index_col = 0)\n",
        "real_seq = sequence.iloc[0:42, :]\n",
        "\n",
        "\n",
        "\n",
        "\n",
        "\n",
        "contact_columns = []\n",
        "for i in range(0,df_real.shape[0]): # x-axis of real\n",
        "  for j in range(0,df_real.shape[1]): # y-axis of real\n",
        "    if isinstance(df_real.iloc[i,j], str): # is this cell in the real section a string like 7e53?\n",
        "      continue\n",
        "    elif df_real.iloc[i,j] > 0: # if not, then is it bigger than 0?\n",
        "      contact_columns.append(j)\n",
        "    elif df_pred.iloc[i,j] > 0:\n",
        "      contact_columns.append(j)\n",
        "\n",
        "a = list(set(contact_columns))\n",
        "\n",
        "\n",
        "z = []\n",
        "for i in range(0,40):\n",
        "  counter = [0,0,0,0,0,0,0,0,0,0,0,0,0,0,0,0,0,0,0,0]\n",
        "  for j in a:\n",
        "    if real_seq.iloc[i,j] == \"A\":\n",
        "      counter[0] += 1\n",
        "    if real_seq.iloc[i,j] == \"C\":\n",
        "      counter[1] += 1\n",
        "    if real_seq.iloc[i,j] == \"D\":\n",
        "      counter[2] += 1\n",
        "    if real_seq.iloc[i,j] == \"E\":\n",
        "      counter[3] += 1\n",
        "    if real_seq.iloc[i,j] == \"F\":\n",
        "      counter[4] += 1\n",
        "    if real_seq.iloc[i,j] == \"G\":\n",
        "      counter[5] += 1\n",
        "    if real_seq.iloc[i,j] == \"H\":\n",
        "      counter[6] += 1\n",
        "    if real_seq.iloc[i,j] == \"I\":\n",
        "      counter[7] += 1\n",
        "    if real_seq.iloc[i,j] == \"K\":\n",
        "      counter[8] += 1\n",
        "    if real_seq.iloc[i,j] == \"L\":\n",
        "      counter[9] += 1\n",
        "    if real_seq.iloc[i,j] == \"M\":\n",
        "      counter[10] += 1\n",
        "    if real_seq.iloc[i,j] == \"N\":\n",
        "      counter[11] += 1\n",
        "    if real_seq.iloc[i,j] == \"P\":\n",
        "      counter[12] += 1\n",
        "    if real_seq.iloc[i,j] == \"Q\":\n",
        "      counter[13] += 1\n",
        "    if real_seq.iloc[i,j] == \"R\":\n",
        "      counter[14] += 1\n",
        "    if real_seq.iloc[i,j] == \"S\":\n",
        "      counter[15] += 1\n",
        "    if real_seq.iloc[i,j] == \"T\":\n",
        "      counter[16] += 1\n",
        "    if real_seq.iloc[i,j] == \"V\":\n",
        "      counter[17] += 1\n",
        "    if real_seq.iloc[i,j] == \"W\":\n",
        "      counter[18] += 1\n",
        "    if real_seq.iloc[i,j] == \"Y\":\n",
        "      counter[19] += 1\n",
        "  z.append(counter)\n",
        "\n",
        "\n",
        "\n",
        "contact_AAs = pd.DataFrame(z,columns = (\"A\",\"C\",\"D\",\"E\",\"F\",\"G\",\"H\",\"I\",\"K\",\"L\",\"M\",\"N\",\"P\",\"Q\",\"R\",\"S\",\"T\",\"V\",\"W\",\"Y\"))\n",
        "contact_AAs.index = df_real.index\n",
        "\n",
        "contact_AAs\n",
        "\n",
        "\n"
      ],
      "metadata": {
        "id": "i00roueIrM_t"
      },
      "execution_count": null,
      "outputs": []
    },
    {
      "cell_type": "code",
      "source": [
        "import pandas as pd\n",
        "\n",
        "mistake_map = pd.read_excel(\"/content/drive/MyDrive/Rishi_project_files/Compare_Contacts/mistakes.xlsx\",index_col = 0)\n",
        "\n",
        "df_mistake = mistake_map.iloc[0:42, :]\n",
        "\n",
        "pos=[]\n",
        "neg=[]\n",
        "for i in range(0,df_mistake.shape[0]):\n",
        "  counter_pos = [0,0,0,0,0,0,0,0,0,0,0,0,0,0,0,0,0,0,0,0]\n",
        "  counter_neg = [0,0,0,0,0,0,0,0,0,0,0,0,0,0,0,0,0,0,0,0]\n",
        "  for j in range(0,df_mistake.shape[1]):\n",
        "    if df_mistake.iloc[i,j] == \"A\":\n",
        "      counter_neg[0] += 1\n",
        "    if df_mistake.iloc[i,j] == \"C\":\n",
        "      counter_neg[1] += 1\n",
        "    if df_mistake.iloc[i,j] == \"D\":\n",
        "      counter_neg[2] += 1\n",
        "    if df_mistake.iloc[i,j] == \"E\":\n",
        "      counter_neg[3] += 1\n",
        "    if df_mistake.iloc[i,j] == \"F\":\n",
        "      counter_neg[4] += 1\n",
        "    if df_mistake.iloc[i,j] == \"G\":\n",
        "      counter_neg[5] += 1\n",
        "    if df_mistake.iloc[i,j] == \"H\":\n",
        "      counter_neg[6] += 1\n",
        "    if df_mistake.iloc[i,j] == \"I\":\n",
        "      counter_neg[7] += 1\n",
        "    if df_mistake.iloc[i,j] == \"K\":\n",
        "      counter_neg[8] += 1\n",
        "    if df_mistake.iloc[i,j] == \"L\":\n",
        "      counter_neg[9] += 1\n",
        "    if df_mistake.iloc[i,j] == \"M\":\n",
        "      counter_neg[10] += 1\n",
        "    if df_mistake.iloc[i,j] == \"N\":\n",
        "      counter_neg[11] += 1\n",
        "    if df_mistake.iloc[i,j] == \"P\":\n",
        "      counter_neg[12] += 1\n",
        "    if df_mistake.iloc[i,j] == \"Q\":\n",
        "      counter_neg[13] += 1\n",
        "    if df_mistake.iloc[i,j] == \"R\":\n",
        "      counter_neg[14] += 1\n",
        "    if df_mistake.iloc[i,j] == \"S\":\n",
        "      counter_neg[15] += 1\n",
        "    if df_mistake.iloc[i,j] == \"T\":\n",
        "      counter_neg[16] += 1\n",
        "    if df_mistake.iloc[i,j] == \"V\":\n",
        "      counter_neg[17] += 1\n",
        "    if df_mistake.iloc[i,j] == \"W\":\n",
        "      counter_neg[18] += 1\n",
        "    if df_mistake.iloc[i,j] == \"Y\":\n",
        "      counter_neg[19] += 1\n",
        "\n",
        "# -----------------------------------------------------------------BELOW IS WHERE I CHECK FOR THE FALSE POSITIVES\n",
        "\n",
        "    if df_mistake.iloc[i,j] == \"a\":\n",
        "      counter_pos[0] += 1\n",
        "    if df_mistake.iloc[i,j] == \"c\":\n",
        "      counter_pos[1] += 1\n",
        "    if df_mistake.iloc[i,j] == \"d\":\n",
        "      counter_pos[2] += 1\n",
        "    if df_mistake.iloc[i,j] == \"e\":\n",
        "      counter_pos[3] += 1\n",
        "    if df_mistake.iloc[i,j] == \"f\":\n",
        "      counter_pos[4] += 1\n",
        "    if df_mistake.iloc[i,j] == \"g\":\n",
        "      counter_pos[5] += 1\n",
        "    if df_mistake.iloc[i,j] == \"h\":\n",
        "      counter_pos[6] += 1\n",
        "    if df_mistake.iloc[i,j] == \"i\":\n",
        "      counter_pos[7] += 1\n",
        "    if df_mistake.iloc[i,j] == \"j\":\n",
        "      counter_pos[8] += 1\n",
        "    if df_mistake.iloc[i,j] == \"k\":\n",
        "      counter_pos[9] += 1\n",
        "    if df_mistake.iloc[i,j] == \"l\":\n",
        "      counter_pos[10] += 1\n",
        "    if df_mistake.iloc[i,j] == \"n\":\n",
        "      counter_pos[11] += 1\n",
        "    if df_mistake.iloc[i,j] == \"p\":\n",
        "      counter_pos[12] += 1\n",
        "    if df_mistake.iloc[i,j] == \"q\":\n",
        "      counter_pos[13] += 1\n",
        "    if df_mistake.iloc[i,j] == \"r\":\n",
        "      counter_pos[14] += 1\n",
        "    if df_mistake.iloc[i,j] == \"s\":\n",
        "      counter_pos[15] += 1\n",
        "    if df_mistake.iloc[i,j] == \"t\":\n",
        "      counter_pos[16] += 1\n",
        "    if df_mistake.iloc[i,j] == \"v\":\n",
        "      counter_pos[17] += 1\n",
        "    if df_mistake.iloc[i,j] == \"w\":\n",
        "      counter_pos[18] += 1\n",
        "    if df_mistake.iloc[i,j] == \"y\":\n",
        "      counter_pos[19] += 1\n",
        "\n",
        "\n",
        "  pos.append(counter_pos)\n",
        "  neg.append(counter_neg)\n",
        "\n",
        "\n",
        "False_neg = pd.DataFrame(neg,columns = (\"A\",\"C\",\"D\",\"E\",\"F\",\"G\",\"H\",\"I\",\"K\",\"L\",\"M\",\"N\",\"P\",\"Q\",\"R\",\"S\",\"T\",\"V\",\"W\",\"Y\"))\n",
        "False_neg.index = df_real.index\n",
        "\n",
        "False_pos = pd.DataFrame(pos,columns = (\"a\",\"c\",\"d\",\"e\",\"f\",\"g\",\"h\",\"i\",\"k\",\"l\",\"m\",\"n\",\"p\",\"q\",\"r\",\"s\",\"t\",\"v\",\"w\",\"y\"))\n",
        "False_pos.index = df_real.index\n",
        "\n"
      ],
      "metadata": {
        "id": "lgLGyLKO1FBD"
      },
      "execution_count": null,
      "outputs": []
    },
    {
      "cell_type": "code",
      "source": [
        "False_neg"
      ],
      "metadata": {
        "id": "iYpBW6Ww4AtL"
      },
      "execution_count": null,
      "outputs": []
    },
    {
      "cell_type": "code",
      "source": [
        "False_pos"
      ],
      "metadata": {
        "id": "NoPHnUiH4Bqq"
      },
      "execution_count": null,
      "outputs": []
    },
    {
      "cell_type": "code",
      "source": [
        "divide = False_neg.div(contact_AAs)\n",
        "divide"
      ],
      "metadata": {
        "id": "KS5lmR8Y84CL"
      },
      "execution_count": null,
      "outputs": []
    },
    {
      "cell_type": "code",
      "source": [
        "\n",
        "False_pos.columns = False_neg.columns\n",
        "\n",
        "divide2 = False_pos.div(contact_AAs)\n",
        "divide2"
      ],
      "metadata": {
        "id": "8_MfiKCZAwI7"
      },
      "execution_count": null,
      "outputs": []
    },
    {
      "cell_type": "code",
      "source": [
        "import pandas as pd\n",
        "\n",
        "contacts = pd.read_excel(\"/content/drive/MyDrive/Rishi_project_files/Compare_Contacts/orig_vs_model_contacts.xlsx\",index_col = 0)\n",
        "df_real = contacts.iloc[0:40, :]\n",
        "df_pred = contacts.iloc[41:81, :]\n",
        "\n",
        "sequence = pd.read_excel(\"/content/drive/MyDrive/Rishi_project_files/Compare_Contacts/orig_contacts.xlsx\",index_col = 0)\n",
        "real_seq = sequence.iloc[0:42, :]\n",
        "\n",
        "\n",
        "real = []\n",
        "for i in range(0,df_real.shape[0]):\n",
        "  counter_real = [0,0,0,0,0,0,0,0,0,0,0,0,0,0,0,0,0,0,0,0]\n",
        "  counter_pred = [0,0,0,0,0,0,0,0,0,0,0,0,0,0,0,0,0,0,0,0]\n",
        "  for j in range(0,df_real.shape[1]):\n",
        "    if isinstance(df_real.iloc[i,j],str):\n",
        "      continue\n",
        "    elif df_real.iloc[i,j] > 0:\n",
        "      if real_seq.iloc[i,j] == \"A\":\n",
        "        counter_real[0] += 1\n",
        "      if real_seq.iloc[i,j] == \"C\":\n",
        "        counter_real[1] += 1\n",
        "      if real_seq.iloc[i,j] == \"D\":\n",
        "        counter_real[2] += 1\n",
        "      if real_seq.iloc[i,j] == \"E\":\n",
        "        counter_real[3] += 1\n",
        "      if real_seq.iloc[i,j] == \"F\":\n",
        "        counter_real[4] += 1\n",
        "      if real_seq.iloc[i,j] == \"G\":\n",
        "        counter_real[5] += 1\n",
        "      if real_seq.iloc[i,j] == \"H\":\n",
        "        counter_real[6] += 1\n",
        "      if real_seq.iloc[i,j] == \"I\":\n",
        "        counter_real[7] += 1\n",
        "      if real_seq.iloc[i,j] == \"K\":\n",
        "        counter_real[8] += 1\n",
        "      if real_seq.iloc[i,j] == \"L\":\n",
        "        counter_real[9] += 1\n",
        "      if real_seq.iloc[i,j] == \"M\":\n",
        "        counter_real[10] += 1\n",
        "      if real_seq.iloc[i,j] == \"N\":\n",
        "        counter_real[11] += 1\n",
        "      if real_seq.iloc[i,j] == \"P\":\n",
        "        counter_real[12] += 1\n",
        "      if real_seq.iloc[i,j] == \"Q\":\n",
        "        counter_real[13] += 1\n",
        "      if real_seq.iloc[i,j] == \"R\":\n",
        "        counter_real[14] += 1\n",
        "      if real_seq.iloc[i,j] == \"S\":\n",
        "        counter_real[15] += 1\n",
        "      if real_seq.iloc[i,j] == \"T\":\n",
        "        counter_real[16] += 1\n",
        "      if real_seq.iloc[i,j] == \"V\":\n",
        "        counter_real[17] += 1\n",
        "      if real_seq.iloc[i,j] == \"W\":\n",
        "        counter_real[18] += 1\n",
        "      if real_seq.iloc[i,j] == \"Y\":\n",
        "        counter_real[19] += 1\n",
        "\n",
        "  real.append(counter_real)\n",
        "\n",
        "\n",
        "\n",
        "pred = []\n",
        "for i in range(0,df_pred.shape[0]):\n",
        "  counter_pred = [0,0,0,0,0,0,0,0,0,0,0,0,0,0,0,0,0,0,0,0]\n",
        "  for j in range(0,df_pred.shape[1]):\n",
        "    if isinstance(df_pred.iloc[i,j],str):\n",
        "      continue\n",
        "    elif df_pred.iloc[i,j] > 0:\n",
        "      if real_seq.iloc[i,j] == \"A\":\n",
        "        counter_pred[0] += 1\n",
        "      if real_seq.iloc[i,j] == \"C\":\n",
        "        counter_pred[1] += 1\n",
        "      if real_seq.iloc[i,j] == \"D\":\n",
        "        counter_pred[2] += 1\n",
        "      if real_seq.iloc[i,j] == \"E\":\n",
        "        counter_pred[3] += 1\n",
        "      if real_seq.iloc[i,j] == \"F\":\n",
        "        counter_pred[4] += 1\n",
        "      if real_seq.iloc[i,j] == \"G\":\n",
        "        counter_pred[5] += 1\n",
        "      if real_seq.iloc[i,j] == \"H\":\n",
        "        counter_pred[6] += 1\n",
        "      if real_seq.iloc[i,j] == \"I\":\n",
        "        counter_pred[7] += 1\n",
        "      if real_seq.iloc[i,j] == \"K\":\n",
        "        counter_pred[8] += 1\n",
        "      if real_seq.iloc[i,j] == \"L\":\n",
        "        counter_pred[9] += 1\n",
        "      if real_seq.iloc[i,j] == \"M\":\n",
        "        counter_pred[10] += 1\n",
        "      if real_seq.iloc[i,j] == \"N\":\n",
        "        counter_pred[11] += 1\n",
        "      if real_seq.iloc[i,j] == \"P\":\n",
        "        counter_pred[12] += 1\n",
        "      if real_seq.iloc[i,j] == \"Q\":\n",
        "        counter_pred[13] += 1\n",
        "      if real_seq.iloc[i,j] == \"R\":\n",
        "        counter_pred[14] += 1\n",
        "      if real_seq.iloc[i,j] == \"S\":\n",
        "        counter_pred[15] += 1\n",
        "      if real_seq.iloc[i,j] == \"T\":\n",
        "        counter_pred[16] += 1\n",
        "      if real_seq.iloc[i,j] == \"V\":\n",
        "        counter_pred[17] += 1\n",
        "      if real_seq.iloc[i,j] == \"W\":\n",
        "        counter_pred[18] += 1\n",
        "      if real_seq.iloc[i,j] == \"Y\":\n",
        "        counter_pred[19] += 1\n",
        "\n",
        "  pred.append(counter_pred)\n",
        "\n",
        "\n",
        "real_contacts = pd.DataFrame(real,columns = (\"A\",\"C\",\"D\",\"E\",\"F\",\"G\",\"H\",\"I\",\"K\",\"L\",\"M\",\"N\",\"P\",\"Q\",\"R\",\"S\",\"T\",\"V\",\"W\",\"Y\"))\n",
        "real_contacts.index = df_real.index\n",
        "\n",
        "pred_contacts = pd.DataFrame(pred,columns = (\"A\",\"C\",\"D\",\"E\",\"F\",\"G\",\"H\",\"I\",\"K\",\"L\",\"M\",\"N\",\"P\",\"Q\",\"R\",\"S\",\"T\",\"V\",\"W\",\"Y\"))\n",
        "pred_contacts.index = df_real.index"
      ],
      "metadata": {
        "id": "EgxkwVA5DrrN"
      },
      "execution_count": null,
      "outputs": []
    },
    {
      "cell_type": "code",
      "source": [
        "real_contacts"
      ],
      "metadata": {
        "id": "Ih2VSYUJgu4o"
      },
      "execution_count": null,
      "outputs": []
    },
    {
      "cell_type": "code",
      "source": [
        "pred_contacts"
      ],
      "metadata": {
        "id": "EFAazMaI2aLn"
      },
      "execution_count": null,
      "outputs": []
    },
    {
      "cell_type": "code",
      "source": [
        "import pandas as pd\n",
        "\n",
        "counter_avgs = [0,0,0,0,0,0,0,0,0,0,0,0,0,0,0,0,0,0,0,0]\n",
        "for i in range(0,real_contacts.shape[0]):\n",
        "  for j in range(0,real_contacts.shape[1]):\n",
        "      counter_avgs[j] += real_contacts.iloc[i,j]\n",
        "\n",
        "real_avgs = pd.DataFrame(counter_avgs,columns = [\"Averages\"])\n",
        "real_avgs.index = real_contacts.columns\n",
        "\n",
        "real_avgs # real contacts"
      ],
      "metadata": {
        "id": "Pf1FC_0sifcs"
      },
      "execution_count": null,
      "outputs": []
    },
    {
      "cell_type": "code",
      "source": [
        "real_contacts / contact_AAs"
      ],
      "metadata": {
        "id": "ohCOn68rhD1t"
      },
      "execution_count": null,
      "outputs": []
    },
    {
      "cell_type": "code",
      "source": [
        "import pandas as pd\n",
        "\n",
        "counter_avgs2 = [0,0,0,0,0,0,0,0,0,0,0,0,0,0,0,0,0,0,0,0]\n",
        "for i in range(0,pred_contacts.shape[0]):\n",
        "  for j in range(0,pred_contacts.shape[1]):\n",
        "      counter_avgs2[j] += pred_contacts.iloc[i,j]\n",
        "\n",
        "pred_avgs = pd.DataFrame(counter_avgs2,columns = [\"Averages\"])\n",
        "pred_avgs.index = real_contacts.columns\n",
        "\n",
        "pred_avgs # predicted contacts"
      ],
      "metadata": {
        "id": "FpKbKb41sqCE"
      },
      "execution_count": null,
      "outputs": []
    },
    {
      "cell_type": "code",
      "source": [
        "pred_contacts/contact_AAs"
      ],
      "metadata": {
        "id": "KnRrEUvkhDgY"
      },
      "execution_count": null,
      "outputs": []
    },
    {
      "cell_type": "code",
      "source": [
        "import pandas as pd\n",
        "\n",
        "counter_avgs3 = [0,0,0,0,0,0,0,0,0,0,0,0,0,0,0,0,0,0,0,0]\n",
        "for i in range(0,contact_AAs.shape[0]):\n",
        "  for j in range(0,contact_AAs.shape[1]):\n",
        "      counter_avgs3[j] += contact_AAs.iloc[i,j]\n",
        "\n",
        "available_avgs = pd.DataFrame(counter_avgs3,columns = [\"Averages\"])\n",
        "available_avgs.index = real_contacts.columns\n",
        "\n",
        "available_avgs # available contacts"
      ],
      "metadata": {
        "id": "yp6aeEGHs6KB"
      },
      "execution_count": null,
      "outputs": []
    },
    {
      "cell_type": "code",
      "source": [
        "real_avgs/available_avgs # real contacts / available\n"
      ],
      "metadata": {
        "id": "Lbx44MhTuAip"
      },
      "execution_count": null,
      "outputs": []
    },
    {
      "cell_type": "code",
      "source": [
        "pred_avgs/available_avgs # pred contacts / available\n"
      ],
      "metadata": {
        "id": "6Un2MEtTuYs7",
        "collapsed": true
      },
      "execution_count": null,
      "outputs": []
    },
    {
      "cell_type": "code",
      "source": [
        "difference = (real_avgs/available_avgs) - (pred_avgs/available_avgs)\n",
        "difference"
      ],
      "metadata": {
        "id": "PvnrhFkPu85-"
      },
      "execution_count": null,
      "outputs": []
    },
    {
      "cell_type": "code",
      "source": [
        "import pandas as pd\n",
        "import matplotlib.pyplot as plt\n",
        "import numpy as np\n",
        "\n",
        "plt.figure(figsize=[20,5])\n",
        "plt.bar(difference.index, difference['Averages'], color = 'pink')\n",
        "plt.title('Comparing the average number of each amino acid, by contact, for real - predicted (positive = more real; negative = more pred)')\n",
        "plt.xlabel('Amino Acids')\n",
        "plt.ylabel('Average')\n",
        "\n",
        "plt.yticks(np.arange(-0.5, 0.6, 0.1))  # set y-axis ticks\n",
        "\n",
        "plt.axhline(0,color = 'black')\n",
        "\n",
        "\n",
        "plt.grid(True)\n",
        "plt.show"
      ],
      "metadata": {
        "id": "dW4xiJXPwTBn"
      },
      "execution_count": null,
      "outputs": []
    },
    {
      "cell_type": "code",
      "source": [
        "import pandas as pd\n",
        "import matplotlib.pyplot as plt\n",
        "import numpy as np\n",
        "\n",
        "plt.figure(figsize=[20,5])\n",
        "plt.bar(available_avgs.index, available_avgs['Averages'], color = 'pink')\n",
        "plt.title('number of available contacts by amino acid')\n",
        "plt.xlabel('Amino Acids')\n",
        "plt.ylabel('Average')\n",
        "\n",
        "plt.yticks(np.arange(0, 501, 50))  # set y-axis ticks\n",
        "\n",
        "\n",
        "\n",
        "plt.grid(True)\n",
        "plt.show\n"
      ],
      "metadata": {
        "id": "OPlF3a3M8WsL"
      },
      "execution_count": null,
      "outputs": []
    }
  ]
}